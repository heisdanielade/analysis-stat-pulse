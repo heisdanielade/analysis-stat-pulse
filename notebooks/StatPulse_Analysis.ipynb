{
 "cells": [
  {
   "cell_type": "markdown",
   "id": "49700b0a",
   "metadata": {},
   "source": [
    "## Creator\n",
    "\n",
    "- **Name**: heisdanielade\n",
    "- **Tools Used**: Python, Pandas, Matplotlib, Seaborn\n",
    "- **Project Type**: Health-related Data Analysis\n",
    "- **Date**: 28th April, 2025"
   ]
  },
  {
   "cell_type": "markdown",
   "id": "ffe6ff42",
   "metadata": {},
   "source": [
    "## Presentation of the Dataset\n",
    "\n",
    "- **Data Source**: Kaggle Community Health Evaluation Dataset  https://www.kaggle.com/datasets/ziya07/community-health-evaluation-dataset\n",
    "\n",
    "- **Overview**: The Community Health Evaluation Dataset comprises of synthesized data aimed at evaluating community health services and health quality based on biomechanical time series. This dataset contains 347 records, each representing a unique participant with various demographic, health service utilization and biomechanical measures.\n",
    "\n",
    "- **Quantitative Variables Used for Analysis**:\n",
    "  - **Age** (Ratio scale) — Age of the participant, measured in years (integer).\n",
    "  - **Quality of Life Score** (Interval scale) — A measure of the participant's quality of life, measured on a point scale between 50 and 100 (integer).\n",
    "\n",
    "- **Categorical/Qualitative Variables**:\n",
    "  - **Gender** (Nominal scale) — Gender of the participant (categorical: 'M' for male, 'F' for female).\n",
    "  - **Service Type** (Nominal scale) — Service offered to participant (categorical: Rehab, Preventive, Consultation).\n"
   ]
  },
  {
   "cell_type": "code",
   "execution_count": 60,
   "id": "720ebbc2",
   "metadata": {},
   "outputs": [],
   "source": [
    "# Libraries Used\n",
    "import pandas as pd\n",
    "import seaborn as sns\n",
    "import matplotlib.pyplot as plt"
   ]
  },
  {
   "cell_type": "code",
   "execution_count": 61,
   "id": "74f99f66",
   "metadata": {},
   "outputs": [],
   "source": [
    "# Load dataset\n",
    "df = pd.read_csv(\"../data/community_health_dataset.csv\")"
   ]
  },
  {
   "cell_type": "code",
   "execution_count": 62,
   "id": "583d61eb",
   "metadata": {},
   "outputs": [
    {
     "data": {
      "text/html": [
       "<div>\n",
       "<style scoped>\n",
       "    .dataframe tbody tr th:only-of-type {\n",
       "        vertical-align: middle;\n",
       "    }\n",
       "\n",
       "    .dataframe tbody tr th {\n",
       "        vertical-align: top;\n",
       "    }\n",
       "\n",
       "    .dataframe thead th {\n",
       "        text-align: right;\n",
       "    }\n",
       "</style>\n",
       "<table border=\"1\" class=\"dataframe\">\n",
       "  <thead>\n",
       "    <tr style=\"text-align: right;\">\n",
       "      <th></th>\n",
       "      <th>Participant ID</th>\n",
       "      <th>Age</th>\n",
       "      <th>Gender</th>\n",
       "      <th>SES</th>\n",
       "      <th>Service Type</th>\n",
       "      <th>Visit Frequency</th>\n",
       "      <th>Step Frequency (steps/min)</th>\n",
       "      <th>Stride Length (m)</th>\n",
       "      <th>Joint Angle (°)</th>\n",
       "      <th>EMG Activity</th>\n",
       "      <th>Patient Satisfaction (1-10)</th>\n",
       "      <th>Quality of Life Score</th>\n",
       "    </tr>\n",
       "  </thead>\n",
       "  <tbody>\n",
       "    <tr>\n",
       "      <th>0</th>\n",
       "      <td>1</td>\n",
       "      <td>56</td>\n",
       "      <td>F</td>\n",
       "      <td>4</td>\n",
       "      <td>Rehab</td>\n",
       "      <td>Weekly</td>\n",
       "      <td>85</td>\n",
       "      <td>0.54</td>\n",
       "      <td>17.99</td>\n",
       "      <td>Low</td>\n",
       "      <td>1</td>\n",
       "      <td>57</td>\n",
       "    </tr>\n",
       "    <tr>\n",
       "      <th>1</th>\n",
       "      <td>2</td>\n",
       "      <td>69</td>\n",
       "      <td>M</td>\n",
       "      <td>1</td>\n",
       "      <td>Preventive</td>\n",
       "      <td>Yearly</td>\n",
       "      <td>80</td>\n",
       "      <td>0.70</td>\n",
       "      <td>13.05</td>\n",
       "      <td>Moderate</td>\n",
       "      <td>8</td>\n",
       "      <td>94</td>\n",
       "    </tr>\n",
       "    <tr>\n",
       "      <th>2</th>\n",
       "      <td>3</td>\n",
       "      <td>46</td>\n",
       "      <td>M</td>\n",
       "      <td>4</td>\n",
       "      <td>Rehab</td>\n",
       "      <td>Yearly</td>\n",
       "      <td>81</td>\n",
       "      <td>0.57</td>\n",
       "      <td>29.85</td>\n",
       "      <td>Moderate</td>\n",
       "      <td>4</td>\n",
       "      <td>66</td>\n",
       "    </tr>\n",
       "    <tr>\n",
       "      <th>3</th>\n",
       "      <td>4</td>\n",
       "      <td>32</td>\n",
       "      <td>F</td>\n",
       "      <td>1</td>\n",
       "      <td>Consultation</td>\n",
       "      <td>Weekly</td>\n",
       "      <td>66</td>\n",
       "      <td>0.78</td>\n",
       "      <td>28.54</td>\n",
       "      <td>Moderate</td>\n",
       "      <td>9</td>\n",
       "      <td>66</td>\n",
       "    </tr>\n",
       "    <tr>\n",
       "      <th>4</th>\n",
       "      <td>5</td>\n",
       "      <td>60</td>\n",
       "      <td>M</td>\n",
       "      <td>3</td>\n",
       "      <td>Preventive</td>\n",
       "      <td>Weekly</td>\n",
       "      <td>73</td>\n",
       "      <td>0.84</td>\n",
       "      <td>20.80</td>\n",
       "      <td>High</td>\n",
       "      <td>5</td>\n",
       "      <td>98</td>\n",
       "    </tr>\n",
       "  </tbody>\n",
       "</table>\n",
       "</div>"
      ],
      "text/plain": [
       "   Participant ID  Age Gender  SES  Service Type Visit Frequency  \\\n",
       "0               1   56      F    4         Rehab          Weekly   \n",
       "1               2   69      M    1    Preventive          Yearly   \n",
       "2               3   46      M    4         Rehab          Yearly   \n",
       "3               4   32      F    1  Consultation          Weekly   \n",
       "4               5   60      M    3    Preventive          Weekly   \n",
       "\n",
       "   Step Frequency (steps/min)  Stride Length (m)  Joint Angle (°)  \\\n",
       "0                          85               0.54            17.99   \n",
       "1                          80               0.70            13.05   \n",
       "2                          81               0.57            29.85   \n",
       "3                          66               0.78            28.54   \n",
       "4                          73               0.84            20.80   \n",
       "\n",
       "  EMG Activity  Patient Satisfaction (1-10)  Quality of Life Score  \n",
       "0          Low                            1                     57  \n",
       "1     Moderate                            8                     94  \n",
       "2     Moderate                            4                     66  \n",
       "3     Moderate                            9                     66  \n",
       "4         High                            5                     98  "
      ]
     },
     "execution_count": 62,
     "metadata": {},
     "output_type": "execute_result"
    }
   ],
   "source": [
    "# First 5 rows of the dataset\n",
    "df.head()"
   ]
  },
  {
   "cell_type": "markdown",
   "id": "71c9df73",
   "metadata": {},
   "source": [
    "## Variables\n",
    "\n",
    "- **Participant ID**: Unique identifier (integer, **categorical**, **nominal**).\n",
    "- **Age**: Participant’s age (integer, **quantitative**, **ratio**).\n",
    "- **Gender**: Participant’s gender ('M' for male, 'F' for female) (categorical, **nominal**).\n",
    "- **SES (Socioeconomic Status)**: Socioeconomic status on a scale from 1 to 4 (integer, **categorical**, **ordinal**).\n",
    "- **Service Type**: Type of health service accessed ('Rehab', 'Preventive', 'Consultation') (categorical, **nominal**).\n",
    "- **Visit Frequency**: Frequency of visits ('Weekly', 'Monthly', 'Yearly') (categorical, **ordinal**).\n",
    "- **Step Frequency (steps/min)**: Average steps per minute (integer, **quantitative**, **ratio**).\n",
    "- **Stride Length (m)**: Average stride length in meters (float, **quantitative**, **ratio**).\n",
    "- **Joint Angle (°)**: Average joint angle in degrees (float, **quantitative**, **ratio**).\n",
    "- **EMG Activity**: Muscle activity level ('Low', 'Moderate', 'High') (categorical, **ordinal**).\n",
    "- **Patient Satisfaction (1-10)**: Satisfaction score from 1 to 10 (integer, **quantitative**, **ordinal**).\n",
    "- **Quality of Life Score**: Quality of life score (integer, **quantitative**, **ordinal**).\n"
   ]
  },
  {
   "cell_type": "code",
   "execution_count": 64,
   "id": "5f23b488",
   "metadata": {},
   "outputs": [
    {
     "data": {
      "text/html": [
       "<div>\n",
       "<style scoped>\n",
       "    .dataframe tbody tr th:only-of-type {\n",
       "        vertical-align: middle;\n",
       "    }\n",
       "\n",
       "    .dataframe tbody tr th {\n",
       "        vertical-align: top;\n",
       "    }\n",
       "\n",
       "    .dataframe thead th {\n",
       "        text-align: right;\n",
       "    }\n",
       "</style>\n",
       "<table border=\"1\" class=\"dataframe\">\n",
       "  <thead>\n",
       "    <tr style=\"text-align: right;\">\n",
       "      <th></th>\n",
       "      <th>Participant ID</th>\n",
       "      <th>Age</th>\n",
       "      <th>SES</th>\n",
       "      <th>Step Frequency (steps/min)</th>\n",
       "      <th>Stride Length (m)</th>\n",
       "      <th>Joint Angle (°)</th>\n",
       "      <th>Patient Satisfaction (1-10)</th>\n",
       "      <th>Quality of Life Score</th>\n",
       "    </tr>\n",
       "  </thead>\n",
       "  <tbody>\n",
       "    <tr>\n",
       "      <th>count</th>\n",
       "      <td>347.000000</td>\n",
       "      <td>347.000000</td>\n",
       "      <td>347.000000</td>\n",
       "      <td>347.000000</td>\n",
       "      <td>347.000000</td>\n",
       "      <td>347.000000</td>\n",
       "      <td>347.000000</td>\n",
       "      <td>347.000000</td>\n",
       "    </tr>\n",
       "    <tr>\n",
       "      <th>mean</th>\n",
       "      <td>174.000000</td>\n",
       "      <td>43.374640</td>\n",
       "      <td>2.357349</td>\n",
       "      <td>80.123919</td>\n",
       "      <td>0.751499</td>\n",
       "      <td>20.057378</td>\n",
       "      <td>5.213256</td>\n",
       "      <td>74.195965</td>\n",
       "    </tr>\n",
       "    <tr>\n",
       "      <th>std</th>\n",
       "      <td>100.314505</td>\n",
       "      <td>15.177304</td>\n",
       "      <td>1.129848</td>\n",
       "      <td>11.257582</td>\n",
       "      <td>0.143221</td>\n",
       "      <td>5.807653</td>\n",
       "      <td>2.833643</td>\n",
       "      <td>13.949400</td>\n",
       "    </tr>\n",
       "    <tr>\n",
       "      <th>min</th>\n",
       "      <td>1.000000</td>\n",
       "      <td>18.000000</td>\n",
       "      <td>1.000000</td>\n",
       "      <td>60.000000</td>\n",
       "      <td>0.500000</td>\n",
       "      <td>10.060000</td>\n",
       "      <td>1.000000</td>\n",
       "      <td>50.000000</td>\n",
       "    </tr>\n",
       "    <tr>\n",
       "      <th>25%</th>\n",
       "      <td>87.500000</td>\n",
       "      <td>31.000000</td>\n",
       "      <td>1.000000</td>\n",
       "      <td>71.000000</td>\n",
       "      <td>0.620000</td>\n",
       "      <td>15.065000</td>\n",
       "      <td>3.000000</td>\n",
       "      <td>62.000000</td>\n",
       "    </tr>\n",
       "    <tr>\n",
       "      <th>50%</th>\n",
       "      <td>174.000000</td>\n",
       "      <td>43.000000</td>\n",
       "      <td>2.000000</td>\n",
       "      <td>81.000000</td>\n",
       "      <td>0.760000</td>\n",
       "      <td>20.190000</td>\n",
       "      <td>5.000000</td>\n",
       "      <td>74.000000</td>\n",
       "    </tr>\n",
       "    <tr>\n",
       "      <th>75%</th>\n",
       "      <td>260.500000</td>\n",
       "      <td>56.000000</td>\n",
       "      <td>3.000000</td>\n",
       "      <td>90.000000</td>\n",
       "      <td>0.860000</td>\n",
       "      <td>25.220000</td>\n",
       "      <td>8.000000</td>\n",
       "      <td>86.000000</td>\n",
       "    </tr>\n",
       "    <tr>\n",
       "      <th>max</th>\n",
       "      <td>347.000000</td>\n",
       "      <td>69.000000</td>\n",
       "      <td>4.000000</td>\n",
       "      <td>99.000000</td>\n",
       "      <td>1.000000</td>\n",
       "      <td>29.970000</td>\n",
       "      <td>10.000000</td>\n",
       "      <td>99.000000</td>\n",
       "    </tr>\n",
       "  </tbody>\n",
       "</table>\n",
       "</div>"
      ],
      "text/plain": [
       "       Participant ID         Age         SES  Step Frequency (steps/min)  \\\n",
       "count      347.000000  347.000000  347.000000                  347.000000   \n",
       "mean       174.000000   43.374640    2.357349                   80.123919   \n",
       "std        100.314505   15.177304    1.129848                   11.257582   \n",
       "min          1.000000   18.000000    1.000000                   60.000000   \n",
       "25%         87.500000   31.000000    1.000000                   71.000000   \n",
       "50%        174.000000   43.000000    2.000000                   81.000000   \n",
       "75%        260.500000   56.000000    3.000000                   90.000000   \n",
       "max        347.000000   69.000000    4.000000                   99.000000   \n",
       "\n",
       "       Stride Length (m)  Joint Angle (°)  Patient Satisfaction (1-10)  \\\n",
       "count         347.000000       347.000000                   347.000000   \n",
       "mean            0.751499        20.057378                     5.213256   \n",
       "std             0.143221         5.807653                     2.833643   \n",
       "min             0.500000        10.060000                     1.000000   \n",
       "25%             0.620000        15.065000                     3.000000   \n",
       "50%             0.760000        20.190000                     5.000000   \n",
       "75%             0.860000        25.220000                     8.000000   \n",
       "max             1.000000        29.970000                    10.000000   \n",
       "\n",
       "       Quality of Life Score  \n",
       "count             347.000000  \n",
       "mean               74.195965  \n",
       "std                13.949400  \n",
       "min                50.000000  \n",
       "25%                62.000000  \n",
       "50%                74.000000  \n",
       "75%                86.000000  \n",
       "max                99.000000  "
      ]
     },
     "execution_count": 64,
     "metadata": {},
     "output_type": "execute_result"
    }
   ],
   "source": [
    "# Summary statistics\n",
    "df.describe()"
   ]
  },
  {
   "cell_type": "code",
   "execution_count": 65,
   "id": "fff984f0",
   "metadata": {},
   "outputs": [],
   "source": [
    "# ================ Organization and Visualizations ================\n",
    "# Histograms for Quantitative Variables"
   ]
  },
  {
   "cell_type": "code",
   "execution_count": 66,
   "id": "2bc22fc7",
   "metadata": {},
   "outputs": [
    {
     "data": {
      "image/png": "[encoded data removed]",
      "text/plain": [
       "<Figure size 800x500 with 1 Axes>"
      ]
     },
     "metadata": {},
     "output_type": "display_data"
    }
   ],
   "source": [
    "# Age Histogram\n",
    "plt.figure(figsize=(8,5))\n",
    "sns.histplot(\n",
    "    data=df,\n",
    "    x='Age',\n",
    "    color='#4C72B0',\n",
    "    bins=15,\n",
    "    edgecolor='black'\n",
    ")\n",
    "plt.title('Distribution of Age', fontsize=14, fontweight='bold')\n",
    "plt.xlabel('Age', fontsize=12)\n",
    "plt.ylabel('Frequency', fontsize=12)\n",
    "plt.grid(axis='y', linestyle='--', alpha=0.7)\n",
    "sns.despine()\n",
    "plt.tight_layout()\n",
    "plt.show()\n"
   ]
  },
  {
   "cell_type": "code",
   "execution_count": 67,
   "id": "cbf3961b",
   "metadata": {},
   "outputs": [
    {
     "data": {
      "image/png": "[encoded data removed]",
      "text/plain": [
       "<Figure size 800x500 with 1 Axes>"
      ]
     },
     "metadata": {},
     "output_type": "display_data"
    }
   ],
   "source": [
    "# Quality of Life Score Histogram\n",
    "plt.figure(figsize=(8,5))\n",
    "sns.histplot(\n",
    "    data=df,\n",
    "    x='Quality of Life Score',\n",
    "    color='#55A868',\n",
    "    bins=15,\n",
    "    edgecolor='black'\n",
    ")\n",
    "plt.title('Distribution of Quality of Life Score', fontsize=14, fontweight='bold')\n",
    "plt.xlabel('Quality of Life Score', fontsize=12)\n",
    "plt.ylabel('Frequency', fontsize=12)\n",
    "plt.grid(axis='y', linestyle='--', alpha=0.7)\n",
    "sns.despine()\n",
    "plt.tight_layout()\n",
    "plt.show()\n"
   ]
  },
  {
   "cell_type": "code",
   "execution_count": 68,
   "id": "f40c0a50",
   "metadata": {},
   "outputs": [
    {
     "data": {
      "image/png": "[encoded data removed]",
      "text/plain": [
       "<Figure size 600x400 with 1 Axes>"
      ]
     },
     "metadata": {},
     "output_type": "display_data"
    }
   ],
   "source": [
    "# Gender Bar Chart\n",
    "plt.figure(figsize=(6,4))\n",
    "sns.countplot(\n",
    "    x='Gender',\n",
    "    hue='Gender',\n",
    "    data=df,\n",
    "    palette='pastel',\n",
    "    legend=False\n",
    ")\n",
    "plt.title('Distribution of Gender', fontsize=14, fontweight='bold')\n",
    "plt.xlabel('Gender', fontsize=12)\n",
    "plt.ylabel('Count', fontsize=12)\n",
    "plt.grid(axis='y', linestyle='--', alpha=0.7)\n",
    "sns.despine()\n",
    "plt.tight_layout()\n",
    "plt.show()"
   ]
  },
  {
   "cell_type": "code",
   "execution_count": 69,
   "id": "269b99e3",
   "metadata": {},
   "outputs": [
    {
     "data": {
      "image/png": "[encoded data removed]",
      "text/plain": [
       "<Figure size 800x500 with 1 Axes>"
      ]
     },
     "metadata": {},
     "output_type": "display_data"
    }
   ],
   "source": [
    "# Service Type Bar Chart\n",
    "plt.figure(figsize=(8,5))\n",
    "sns.countplot(\n",
    "    x='Service Type',\n",
    "    hue='Service Type',\n",
    "    data=df,\n",
    "    palette='viridis',\n",
    "    legend=False\n",
    ")\n",
    "plt.title('Distribution of Service Type', fontsize=14, fontweight='bold')\n",
    "plt.xlabel('Service Type', fontsize=12)\n",
    "plt.ylabel('Count', fontsize=12)\n",
    "plt.xticks(rotation=45, ha='right')\n",
    "plt.grid(axis='y', linestyle='--', alpha=0.7)\n",
    "sns.despine()\n",
    "plt.tight_layout()\n",
    "plt.show()\n"
   ]
  },
  {
   "cell_type": "code",
   "execution_count": 70,
   "id": "4b4c764f",
   "metadata": {},
   "outputs": [],
   "source": [
    "# ================ Descriptive Statistics ================"
   ]
  },
  {
   "cell_type": "code",
   "execution_count": 71,
   "id": "241e1b14",
   "metadata": {},
   "outputs": [
    {
     "name": "stdout",
     "output_type": "stream",
     "text": [
      "Interquartile Range (IQR):\n",
      "Age                      25.0\n",
      "Quality of Life Score    24.0\n",
      "dtype: float64\n"
     ]
    }
   ],
   "source": [
    "# IQR = Q3 - Q1\n",
    "Q1 = df[['Age', 'Quality of Life Score']].quantile(0.25)\n",
    "Q3 = df[['Age', 'Quality of Life Score']].quantile(0.75)\n",
    "IQR = Q3 - Q1\n",
    "\n",
    "print(\"Interquartile Range (IQR):\")\n",
    "print(IQR)\n"
   ]
  },
  {
   "cell_type": "code",
   "execution_count": 72,
   "id": "8f1f3622",
   "metadata": {},
   "outputs": [
    {
     "name": "stdout",
     "output_type": "stream",
     "text": [
      "\n",
      "Quartile Deviation:\n",
      "Age                      12.5\n",
      "Quality of Life Score    12.0\n",
      "dtype: float64\n"
     ]
    }
   ],
   "source": [
    "Quartile_Deviation = IQR / 2\n",
    "\n",
    "print(\"\\nQuartile Deviation:\")\n",
    "print(Quartile_Deviation)\n"
   ]
  },
  {
   "cell_type": "code",
   "execution_count": 73,
   "id": "e493ae0c",
   "metadata": {},
   "outputs": [
    {
     "name": "stdout",
     "output_type": "stream",
     "text": [
      "\n",
      "Coefficient of Variation (%):\n",
      "Age                      34.991194\n",
      "Quality of Life Score    18.800753\n",
      "dtype: float64\n"
     ]
    }
   ],
   "source": [
    "CV = (df[['Age', 'Quality of Life Score']].std() / df[['Age', 'Quality of Life Score']].mean()) * 100\n",
    "\n",
    "print(\"\\nCoefficient of Variation (%):\")\n",
    "print(CV)\n"
   ]
  },
  {
   "cell_type": "markdown",
   "id": "da9a8002",
   "metadata": {},
   "source": [
    "## Statistical Measures\n",
    "\n",
    "### Interquartile Range (IQR)\n",
    "- **Age:** 25.0\n",
    "- **Quality of Life Score:** 24.0\n",
    "\n",
    "The IQR measures the spread of the middle 50% of the data. Both variables show moderate dispersion, with Age having a slightly higher variability.\n",
    "\n",
    "---\n",
    "\n",
    "### Quartile Deviation (Semi-Interquartile Range)\n",
    "- **Age:** 12.5\n",
    "- **Quality of Life Score:** 12.0\n",
    "\n",
    "The quartile deviation, being half the IQR, further confirms the moderate spread around the median for both variables.\n",
    "\n",
    "---\n",
    "\n",
    "### Coefficient of Variation (CV)\n",
    "- **Age:** 34.99%\n",
    "- **Quality of Life Score:** 18.80%\n",
    "\n",
    "The coefficient of variation shows that **Age** is relatively more dispersed compared to the **Quality of Life Score**.  \n",
    "A lower CV for the Quality of Life Score suggests the ratings are more consistent among participants.\n",
    "\n"
   ]
  },
  {
   "cell_type": "code",
   "execution_count": 74,
   "id": "c8f6c07c",
   "metadata": {},
   "outputs": [
    {
     "name": "stdout",
     "output_type": "stream",
     "text": [
      "                       Age  Quality of Life Score\n",
      "Mean                 43.37                  74.20\n",
      "Median               43.00                  74.00\n",
      "Mode                 41.00                  62.00\n",
      "Standard Deviation   15.18                  13.95\n",
      "Variance            230.35                 194.59\n",
      "Range                51.00                  49.00\n",
      "Skewness             -0.04                   0.02\n",
      "Kurtosis             -1.16                  -1.16\n"
     ]
    }
   ],
   "source": [
    "# List of quantitative columns\n",
    "quantitative_vars = ['Age', 'Quality of Life Score']\n",
    "stats_summary = pd.DataFrame(index=[\n",
    "    'Mean',\n",
    "    'Median',\n",
    "    'Mode',\n",
    "    'Standard Deviation',\n",
    "    'Variance',\n",
    "    'Range',\n",
    "    'Skewness',\n",
    "    'Kurtosis'\n",
    "])\n",
    "\n",
    "for var in quantitative_vars:\n",
    "    stats_summary[var] = [\n",
    "        df[var].mean(),\n",
    "        df[var].median(),\n",
    "        df[var].mode()[0],\n",
    "        df[var].std(),\n",
    "        df[var].var(),\n",
    "        df[var].max() - df[var].min(),\n",
    "        df[var].skew(),\n",
    "        df[var].kurtosis()\n",
    "    ]\n",
    "\n",
    "stats_summary = stats_summary.round(2)\n",
    "print(stats_summary)\n"
   ]
  },
  {
   "cell_type": "markdown",
   "id": "bbe951df",
   "metadata": {},
   "source": [
    "## Interpretation of Analysis of Quantitative Variables\n",
    "\n",
    "### Age\n",
    "- **Average age (Mean)** is **43.37**, close to the **median** of **43**, indicating a balanced age distribution. The **mode** of **41** suggests a slight tendency toward younger participants.\n",
    "\n",
    "- The age distribution is **symmetrical**, with a **standard deviation** of **15.18**, indicating a moderate spread. The range of 51 years covers a wide age spectrum.\n",
    "\n",
    "- The **skewness** of **-0.04** and **kurtosis** of **-1.16** indicate a nearly symmetrical distribution with fewer extreme outliers.\n",
    "\n",
    "### Quality of Life Score\n",
    "- The **mean score** of **74.20** indicates a generally high quality of life, with the **median** and **mode** suggesting a slight left-skew.\n",
    "\n",
    "- The **standard deviation** of **13.95** and **range** of **49** reflect significant variability in quality of life, highlighting its subjectivity.\n",
    "\n",
    "- The **skewness** of **0.02** and **kurtosis** of **-1.16** suggest a near-symmetrical distribution with a moderate concentration of scores around the center."
   ]
  },
  {
   "cell_type": "code",
   "execution_count": 75,
   "id": "6ec96b53",
   "metadata": {},
   "outputs": [
    {
     "data": {
      "image/png": "[encoded data removed]",
      "text/plain": [
       "<Figure size 800x500 with 1 Axes>"
      ]
     },
     "metadata": {},
     "output_type": "display_data"
    }
   ],
   "source": [
    "# Boxplot for Age\n",
    "plt.figure(figsize=(8, 5))\n",
    "sns.boxplot(y=df['Age'], color='skyblue')\n",
    "plt.title('Boxplot of Age')\n",
    "plt.grid(True)\n",
    "plt.show()"
   ]
  },
  {
   "cell_type": "code",
   "execution_count": 76,
   "id": "ec2912b4",
   "metadata": {},
   "outputs": [
    {
     "data": {
      "image/png": "[encoded data removed]",
      "text/plain": [
       "<Figure size 800x500 with 1 Axes>"
      ]
     },
     "metadata": {},
     "output_type": "display_data"
    }
   ],
   "source": [
    "# Boxplot for Quality of Life Score\n",
    "plt.figure(figsize=(8, 5))\n",
    "sns.boxplot(y=df['Quality of Life Score'], color='lightgreen')\n",
    "plt.title('Boxplot of Quality of Life Score')\n",
    "plt.grid(True)\n",
    "plt.show()"
   ]
  },
  {
   "cell_type": "code",
   "execution_count": 77,
   "id": "aeda5680",
   "metadata": {},
   "outputs": [
    {
     "name": "stdout",
     "output_type": "stream",
     "text": [
      "\n",
      "Gender Frequency Count:\n",
      "Gender\n",
      "F    184\n",
      "M    163\n",
      "Name: count, dtype: int64\n",
      "\n",
      "Service Type Frequency Count:\n",
      "Service Type\n",
      "Preventive      119\n",
      "Consultation    117\n",
      "Rehab           111\n",
      "Name: count, dtype: int64\n",
      "\n",
      "Mode of Gender: F\n",
      "\n",
      "Mode of Service Type: Preventive\n"
     ]
    }
   ],
   "source": [
    "# Gender Frequency Count\n",
    "gender_counts = df['Gender'].value_counts()\n",
    "\n",
    "# Service Type Frequency Count\n",
    "service_type_counts = df['Service Type'].value_counts()\n",
    "\n",
    "# Mode for Gender\n",
    "gender_mode = gender_counts.idxmax()\n",
    "\n",
    "# Mode for Service Type\n",
    "service_type_mode = service_type_counts.idxmax()\n",
    "\n",
    "print(\"\\nGender Frequency Count:\")\n",
    "print(gender_counts)\n",
    "\n",
    "print(\"\\nService Type Frequency Count:\")\n",
    "print(service_type_counts)\n",
    "\n",
    "print(f\"\\nMode of Gender: {gender_mode}\")\n",
    "print(f\"\\nMode of Service Type: {service_type_mode}\")"
   ]
  },
  {
   "cell_type": "markdown",
   "id": "088f13a1",
   "metadata": {},
   "source": [
    "## Interpretation of Analysis of Qualitative Variables\n",
    "\n",
    "### Gender\n",
    "- The **Gender** variable shows the following distribution:\n",
    "  - **Female (F): 184**\n",
    "  - **Male (M): 163**\n",
    "- The sample is fairly balanced, with a slight majority of **females** in the dataset. \n",
    "- The distribution is relatively equal, but there is still a **higher representation of females** compared to males.\n",
    "- This near balance suggests that gender should not introduce significant bias in the analysis related to gender-specific trends or characteristics.\n",
    "\n",
    "### Service Type\n",
    "- The **Service Type** variable shows the following distribution:\n",
    "  - **Preventive**: 119 participants\n",
    "  - **Consultation**: 117 participants\n",
    "  - **Rehab**: 111 participants\n",
    "- The **Preventive** service type has a slight majority, but all three service types are fairly balanced in terms of the number of participants.\n",
    "- The distribution indicates that the data includes a diverse representation of service types, which might suggest varied participant needs and experiences.\n",
    "- It would be interesting to see if the **service type** correlates with differences in **quality of life scores**, as access to different types of services could have an impact on overall well-being.\n"
   ]
  },
  {
   "cell_type": "code",
   "execution_count": 78,
   "id": "c0df7c3a",
   "metadata": {},
   "outputs": [
    {
     "name": "stdout",
     "output_type": "stream",
     "text": [
      "        count       mean        std   min    25%   50%    75%   max\n",
      "Gender                                                             \n",
      "F       184.0  74.239130  13.683279  50.0  62.75  74.0  85.25  99.0\n",
      "M       163.0  74.147239  14.285983  50.0  62.00  73.0  86.00  99.0\n"
     ]
    }
   ],
   "source": [
    "# Group Quality of Life Score by Gender\n",
    "gender_grouped_qol = df.groupby('Gender')['Quality of Life Score']\n",
    "\n",
    "# Calculate descriptive statistics per gender\n",
    "gender_qol_stats = gender_grouped_qol.describe()\n",
    "\n",
    "print(gender_qol_stats)\n"
   ]
  },
  {
   "cell_type": "code",
   "execution_count": 79,
   "id": "2c209fed",
   "metadata": {},
   "outputs": [
    {
     "name": "stdout",
     "output_type": "stream",
     "text": [
      "IQR by Gender:\n",
      "Gender\n",
      "F    22.5\n",
      "M    24.0\n",
      "Name: Quality of Life Score, dtype: float64\n",
      "\n",
      "Quartile Deviation by Gender:\n",
      "Gender\n",
      "F    11.25\n",
      "M    12.00\n",
      "Name: Quality of Life Score, dtype: float64\n",
      "\n",
      "Coefficient of Variation by Gender:\n",
      "Gender\n",
      "F    18.431357\n",
      "M    19.267046\n",
      "Name: Quality of Life Score, dtype: float64\n"
     ]
    }
   ],
   "source": [
    "# IQR (Interquartile Range) for each gender group\n",
    "iqr_by_gender = gender_grouped_qol.apply(lambda x: x.quantile(0.75) - x.quantile(0.25))\n",
    "\n",
    "# Quartile Deviation (half of IQR)\n",
    "qd_by_gender = iqr_by_gender / 2\n",
    "\n",
    "# Coefficient of Variation (CV) for each gender group\n",
    "cv_by_gender = gender_grouped_qol.apply(lambda x: (x.std() / x.mean()) * 100)\n",
    "\n",
    "# Display the results\n",
    "print(\"IQR by Gender:\")\n",
    "print(iqr_by_gender)\n",
    "\n",
    "print(\"\\nQuartile Deviation by Gender:\")\n",
    "print(qd_by_gender)\n",
    "\n",
    "print(\"\\nCoefficient of Variation by Gender:\")\n",
    "print(cv_by_gender)\n"
   ]
  },
  {
   "cell_type": "markdown",
   "id": "6b704a2c",
   "metadata": {},
   "source": [
    "## Conclusion\n",
    "\n",
    "From the analysis of the **Age** and **Quality of Life Score** variables, we can draw several key conclusions:\n",
    "\n",
    "1. **Age Distribution**:\n",
    "   - The **mean age** is **43.37**, with a **median of 43** and **mode of 41**, indicating a middle-aged group with a slight concentration around 41.\n",
    "   - A **range of 51 years** and **symmetric distribution** suggest diversity in age, providing a solid basis for age-related analysis.\n",
    "\n",
    "2. **Quality of Life Score Distribution**:\n",
    "   - The **mean score of 74.20** indicates moderate to high quality of life, but the **mode of 62** suggests a segment with lower scores, pointing to varying perceptions of well-being.\n",
    "   - A **wide range of 49 points** and **standard deviation of 13.95** show significant variability in quality of life among participants.\n",
    "\n",
    "3. **Implications**:\n",
    "   - The **age distribution** includes both younger and older participants, enabling age-related subgroup analysis.\n",
    "   - The **quality of life** variability suggests diverse health perceptions, potentially linked to demographic, socioeconomic, or health factors.\n",
    "   - **Gender** and **Service Type** show balanced distributions, with **Gender** having a slight female majority and Service Type equally spread across **Preventive, Consultation, and Rehab**.\n",
    "\n",
    "Overall, the dataset offers a comprehensive view of age and quality of life, allowing for more in-depth analysis into how these variables might correlate with other factors in the dataset."
   ]
  }
 ],
 "metadata": {
  "kernelspec": {
   "display_name": ".venv",
   "language": "python",
   "name": "python3"
  },
  "language_info": {
   "codemirror_mode": {
    "name": "ipython",
    "version": 3
   },
   "file_extension": ".py",
   "mimetype": "text/x-python",
   "name": "python",
   "nbconvert_exporter": "python",
   "pygments_lexer": "ipython3",
   "version": "3.12.2"
  }
 },
 "nbformat": 4,
 "nbformat_minor": 5
}
